{
 "cells": [
  {
   "cell_type": "markdown",
   "metadata": {},
   "source": [
    "# Xopt Problem Wrapper\n",
    "This notebook demonstrates the use of `XoptProblemWrapper` for adapting a ParetoBench problem for use with Xopt."
   ]
  },
  {
   "cell_type": "code",
   "execution_count": 1,
   "metadata": {},
   "outputs": [],
   "source": [
    "from electronsandstuff.xopt.paretobench import XoptProblemWrapper\n",
    "from paretobench import Problem\n",
    "from xopt import Xopt, Evaluator\n",
    "from xopt.generators.ga.cnsga import CNSGAGenerator"
   ]
  },
  {
   "cell_type": "markdown",
   "metadata": {},
   "source": [
    "## Construction and Use of Problem Wrapper\n",
    "In this section, we create a wrapped test problem and show off its basic features. The problem \"TNK\" is used to show a simple problem with both objectives and constraints."
   ]
  },
  {
   "cell_type": "code",
   "execution_count": 2,
   "metadata": {},
   "outputs": [
    {
     "data": {
      "text/plain": [
       "XoptProblemWrapper(TNK)"
      ]
     },
     "execution_count": 2,
     "metadata": {},
     "output_type": "execute_result"
    }
   ],
   "source": [
    "# Create the test problem wrapper object from \"TNK\" in ParetoBench\n",
    "prob = XoptProblemWrapper(Problem.from_line_fmt(\"TNK\"))\n",
    "prob"
   ]
  },
  {
   "cell_type": "code",
   "execution_count": 3,
   "metadata": {},
   "outputs": [
    {
     "data": {
      "text/plain": [
       "{'variables': {'x0': [0.0, 3.141592653589793], 'x1': [0.0, 3.141592653589793]},\n",
       " 'constraints': {'g0': ['GREATER_THAN', 0.0], 'g1': ['GREATER_THAN', 0.0]},\n",
       " 'objectives': {'f0': 'MINIMIZE', 'f1': 'MINIMIZE'},\n",
       " 'constants': {},\n",
       " 'observables': []}"
      ]
     },
     "execution_count": 3,
     "metadata": {},
     "output_type": "execute_result"
    }
   ],
   "source": [
    "# Inspect the VOCS object\n",
    "prob.vocs.model_dump()"
   ]
  },
  {
   "cell_type": "code",
   "execution_count": 4,
   "metadata": {},
   "outputs": [
    {
     "data": {
      "text/plain": [
       "{'f0': array([1.]),\n",
       " 'f1': array([10.]),\n",
       " 'g0': array([100.00238998]),\n",
       " 'g1': array([-90.])}"
      ]
     },
     "execution_count": 4,
     "metadata": {},
     "output_type": "execute_result"
    }
   ],
   "source": [
    "# Demonstrate evaluating the objective functions / constraints\n",
    "prob({\"x0\": 1.0, \"x1\": 10.0})"
   ]
  },
  {
   "cell_type": "code",
   "execution_count": 5,
   "metadata": {},
   "outputs": [
    {
     "data": {
      "text/plain": [
       "{'f0': array([1., 2.]),\n",
       " 'f1': array([10., 20.]),\n",
       " 'g0': array([100.00238998, 403.00238998]),\n",
       " 'g1': array([ -90., -382.])}"
      ]
     },
     "execution_count": 5,
     "metadata": {},
     "output_type": "execute_result"
    }
   ],
   "source": [
    "# Show using batched evaluation\n",
    "prob({\"x0\": [1.0, 2.0], \"x1\": [10.0, 20.0]})"
   ]
  },
  {
   "cell_type": "markdown",
   "metadata": {},
   "source": [
    "## Performing an Optimization With Xopt\n",
    "In this section, we construct a wrapped test problem and perform a optimization on it using Xopt."
   ]
  },
  {
   "cell_type": "code",
   "execution_count": 6,
   "metadata": {},
   "outputs": [
    {
     "name": "stdout",
     "output_type": "stream",
     "text": [
      "Evaluating 16 generations in xopt:\n",
      "  Complete!\n"
     ]
    }
   ],
   "source": [
    "# Our test problem\n",
    "prob = XoptProblemWrapper(Problem.from_line_fmt(\"WFG1 (n=16, k=2, m=2)\"))\n",
    "\n",
    "# Setup NSGA-II in xopt to solve it\n",
    "population_size = 50\n",
    "ev = Evaluator(function=prob, vectorized=True, max_workers=population_size)\n",
    "X = Xopt(\n",
    "    generator=CNSGAGenerator(vocs=prob.vocs, population_size=population_size),\n",
    "    evaluator=ev,\n",
    "    vocs=prob.vocs,\n",
    ")\n",
    "X.strict = False\n",
    "\n",
    "# Run the optimizer\n",
    "n_generations = 16\n",
    "print(f\"Evaluating {n_generations} generations in xopt:\")\n",
    "for gen in range(n_generations):\n",
    "    X.step()\n",
    "print(\"  Complete!\")"
   ]
  }
 ],
 "metadata": {
  "kernelspec": {
   "display_name": "electronsandstuff",
   "language": "python",
   "name": "python3"
  },
  "language_info": {
   "codemirror_mode": {
    "name": "ipython",
    "version": 3
   },
   "file_extension": ".py",
   "mimetype": "text/x-python",
   "name": "python",
   "nbconvert_exporter": "python",
   "pygments_lexer": "ipython3",
   "version": "3.11.11"
  }
 },
 "nbformat": 4,
 "nbformat_minor": 2
}
