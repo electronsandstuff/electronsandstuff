{
 "cells": [
  {
   "cell_type": "markdown",
   "metadata": {},
   "source": [
    "# ICool Input File Parser\n",
    "In the `icool` submodule there exists pydantic classes and tools for parsing the input files from the ICOOL muon cooling code. Use these tools for input file translation into other tools or analysis or lattices.\n",
    "\n",
    "Note: this is a work in progress tool that does not implement all commands or elements. If you are interested in further features, feel free to contact me by creating an issue on Github. I am also happy to accept pull requests with additional objects."
   ]
  },
  {
   "cell_type": "code",
   "execution_count": 1,
   "metadata": {},
   "outputs": [],
   "source": [
    "from electronsandstuff.icool import ICoolInput, Cell, UnresolvedSubstitutionsError\n",
    "import logging\n",
    "\n",
    "logging.basicConfig(level=logging.INFO)"
   ]
  },
  {
   "cell_type": "markdown",
   "metadata": {},
   "source": [
    "## Input File Loading\n",
    "All data from the input files are loaded into the main class `ICoolInput`. This is done through the twin class methods `from_file` and `from_str` which will construct the input object from a file or string respectively. We demonstrate their use on an example shipped with the ICOOL code (adib.f01)."
   ]
  },
  {
   "cell_type": "code",
   "execution_count": 2,
   "metadata": {},
   "outputs": [
    {
     "data": {
      "text/plain": [
       "[RefP(name='REFP', refpar=2, phmodref=PhModRef3(name='PHMODREF3', pz0=SubKey(key='pref'), t0=0.0)),\n",
       " Ref2(name='REF2', refpar=2, phmodref=PhModRef3(name='PHMODREF3', pz0=0.1465, t0=0.0)),\n",
       " Repeat(name='REPEAT', n_repeat=4, commands=[SRegion(name='SREGION', slen=25.0, zstep=0.01, subregions=[RSubRegion(rlow=0.0, rhigh=1.0, field=FieldSol(name='SOL'), mtag='VAC', geometry=GeometryCBlock(name='CBLOCK'))])]),\n",
       " Cell(name='CELL', n_cells=1, cell_flip=False, field=FieldSol(name='SOL'), commands=[SRegion(name='SREGION', slen=1.0, zstep=0.01, subregions=[RSubRegion(rlow=0.0, rhigh=1.0, field=FieldAccel10(name='ACCEL10', phase=0.0, n_wavelen=15.0, reset=1.0, total_len=60.0, g0=0.0, g1=0.0, g2=4.8, phase_model=0), mtag='VAC', geometry=GeometryCBlock(name='CBLOCK'))])]),\n",
       " Cell(name='CELL', n_cells=59, cell_flip=False, field=FieldSol(name='SOL'), commands=[SRegion(name='SREGION', slen=1.0, zstep=0.01, subregions=[RSubRegion(rlow=0.0, rhigh=1.0, field=FieldAccel10(name='ACCEL10', phase=0.0, n_wavelen=15.0, reset=0.0, total_len=60.0, g0=0.0, g1=0.0, g2=4.8, phase_model=0), mtag='VAC', geometry=GeometryCBlock(name='CBLOCK'))])])]"
      ]
     },
     "execution_count": 2,
     "metadata": {},
     "output_type": "execute_result"
    }
   ],
   "source": [
    "# Load the input object from a file\n",
    "inp = ICoolInput.from_file(\"data/adib.f01\")\n",
    "\n",
    "# Examine the loaded cooling section commands\n",
    "inp.cooling_section.commands"
   ]
  },
  {
   "cell_type": "code",
   "execution_count": 3,
   "metadata": {},
   "outputs": [
    {
     "data": {
      "text/plain": [
       "FieldAccel10(name='ACCEL10', phase=0.0, n_wavelen=15.0, reset=1.0, total_len=60.0, g0=0.0, g1=0.0, g2=4.8, phase_model=0)"
      ]
     },
     "execution_count": 3,
     "metadata": {},
     "output_type": "execute_result"
    }
   ],
   "source": [
    "# Get parameters from one of the accelerating cavities\n",
    "inp.cooling_section.commands[3].commands[0].subregions[0].field"
   ]
  },
  {
   "cell_type": "markdown",
   "metadata": {},
   "source": [
    "## Substitutions\n",
    "The tool automatically handles substitutions. They are held onto and can the replacements can be performed using methods in the input object."
   ]
  },
  {
   "cell_type": "code",
   "execution_count": 4,
   "metadata": {},
   "outputs": [
    {
     "data": {
      "text/plain": [
       "True"
      ]
     },
     "execution_count": 4,
     "metadata": {},
     "output_type": "execute_result"
    }
   ],
   "source": [
    "# Check if parameters have substitutions in their place\n",
    "inp.has_substitutions"
   ]
  },
  {
   "cell_type": "code",
   "execution_count": 5,
   "metadata": {},
   "outputs": [
    {
     "name": "stdout",
     "output_type": "stream",
     "text": [
      "Unresolved substitution 'pref' found in field 'ICoolInput.cooling_section.commands[0].phmodref.pz0'\n"
     ]
    }
   ],
   "source": [
    "# Can also assert which will raise an exception\n",
    "try:\n",
    "    inp.assert_no_substitutions()\n",
    "except UnresolvedSubstitutionsError as e:\n",
    "    print(e)"
   ]
  },
  {
   "cell_type": "code",
   "execution_count": 7,
   "metadata": {},
   "outputs": [],
   "source": [
    "# Perform the subsitution\n",
    "inp_sub = inp.perform_substitutions()\n",
    "inp_sub.assert_no_substitutions()"
   ]
  },
  {
   "cell_type": "markdown",
   "metadata": {},
   "source": [
    "## Analysis\n",
    "Some analysis features are included such as calculating the length of sections including repeated elements and all substitutions."
   ]
  },
  {
   "cell_type": "code",
   "execution_count": 8,
   "metadata": {},
   "outputs": [
    {
     "name": "stdout",
     "output_type": "stream",
     "text": [
      "Total length: 160.0 m\n",
      "Cell 1 unit length: 1.00 m\n",
      "Cell 2 unit length: 1.00 m\n"
     ]
    }
   ],
   "source": [
    "# Get the total length\n",
    "print(f\"Total length: {inp.get_length()} m\")\n",
    "\n",
    "# Get the length of each cooling cell\n",
    "cell_idx = 0\n",
    "for cmd in inp.cooling_section.commands:\n",
    "    if isinstance(cmd, Cell):\n",
    "        cell = cmd.model_copy()\n",
    "        cell.n_cells = 1\n",
    "        print(f\"Cell {cell_idx+1} unit length: {cell.get_length():.2f} m\")\n",
    "        cell_idx += 1"
   ]
  },
  {
   "cell_type": "code",
   "execution_count": null,
   "metadata": {},
   "outputs": [],
   "source": []
  },
  {
   "cell_type": "code",
   "execution_count": null,
   "metadata": {},
   "outputs": [],
   "source": []
  }
 ],
 "metadata": {
  "kernelspec": {
   "display_name": "electronsandstuff",
   "language": "python",
   "name": "python3"
  },
  "language_info": {
   "codemirror_mode": {
    "name": "ipython",
    "version": 3
   },
   "file_extension": ".py",
   "mimetype": "text/x-python",
   "name": "python",
   "nbconvert_exporter": "python",
   "pygments_lexer": "ipython3",
   "version": "3.11.11"
  }
 },
 "nbformat": 4,
 "nbformat_minor": 2
}
