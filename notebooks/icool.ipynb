{
 "cells": [
  {
   "cell_type": "markdown",
   "metadata": {},
   "source": [
    "# ICool Input File Parser\n",
    "In the `icool` submodule there exists pydantic classes and tools for parsing the input files from the ICOOL muon cooling code. Use these tools for input file translation into other tools or analysis or lattices.\n",
    "\n",
    "Note: this is a work in progress tool that does not implement all commands or elements. If you are interested in further features, feel free to contact me by creating an issue on Github. I am also happy to accept pull requests with additional objects."
   ]
  },
  {
   "cell_type": "code",
   "execution_count": 1,
   "metadata": {},
   "outputs": [],
   "source": [
    "from electronsandstuff.icool import ICoolInput\n",
    "import logging\n",
    "\n",
    "logging.basicConfig(level=logging.INFO)"
   ]
  },
  {
   "cell_type": "markdown",
   "metadata": {},
   "source": [
    "## Input File Loading\n",
    "All data from the input files are loaded into the main class `ICoolInput`. This is done through the twin class methods `from_file` and `from_str` which will construct the input object from a file or string respectively. We demonstrate their use on an example shipped with the ICOOL code (adib.f01)."
   ]
  },
  {
   "cell_type": "code",
   "execution_count": 2,
   "metadata": {},
   "outputs": [
    {
     "name": "stderr",
     "output_type": "stream",
     "text": [
      "WARNING:electronsandstuff.icool.region_commands:Unrecognized command: \"REF2\"\n",
      "WARNING:electronsandstuff.icool.region_commands:Unrecognized command: \"2 0.1465 0. 0.\"\n"
     ]
    }
   ],
   "source": [
    "# Load the input object from a file\n",
    "inp = ICoolInput.from_file(\"data/adib.f01\")"
   ]
  },
  {
   "cell_type": "code",
   "execution_count": null,
   "metadata": {},
   "outputs": [],
   "source": []
  }
 ],
 "metadata": {
  "kernelspec": {
   "display_name": "electronsandstuff",
   "language": "python",
   "name": "python3"
  },
  "language_info": {
   "codemirror_mode": {
    "name": "ipython",
    "version": 3
   },
   "file_extension": ".py",
   "mimetype": "text/x-python",
   "name": "python",
   "nbconvert_exporter": "python",
   "pygments_lexer": "ipython3",
   "version": "3.11.11"
  }
 },
 "nbformat": 4,
 "nbformat_minor": 2
}
