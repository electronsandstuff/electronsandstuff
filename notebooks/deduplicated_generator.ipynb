{
 "cells": [
  {
   "cell_type": "markdown",
   "metadata": {},
   "source": [
    "# DeduplicatedGenerator Xopt Wrapper\n",
    "This notebook demonstrates the use of the `DeduplicatedGenerator` wrapper for xopt generator objects. The wrapper will work with any xopt generator and guarantees that the method `generate(...)` only outputs never-before-seen sets of decision variables. It does this by maintaining an array of all previously returned decision variables and using them as a filter on the generators output. By doing this, the wrapper also solves the \"poisoning\" problem with duplicate individuals in the CNSGA generator.\n",
    "\n",
    "The notebook demonstrates running an optimization which produces duplicate individuals. The optimization is then repeated using the `DeduplicatedGenerator` wrapper and it is confirmed that the duplicates vanish."
   ]
  },
  {
   "cell_type": "code",
   "execution_count": 1,
   "metadata": {},
   "outputs": [],
   "source": [
    "from electronsandstuff.xopt.deduplicated import DeduplicatedGenerator\n",
    "from electronsandstuff.xopt.paretobench import XoptProblemWrapper\n",
    "from paretobench import Problem\n",
    "from xopt import Xopt, Evaluator\n",
    "from xopt.generators.ga.cnsga import CNSGAGenerator"
   ]
  },
  {
   "cell_type": "markdown",
   "metadata": {},
   "source": [
    "### Optimization Without Deduplication\n",
    "This cell runs an optimization on the CF1 test problem and prints the number of detected duplicates in each generation."
   ]
  },
  {
   "cell_type": "code",
   "execution_count": 2,
   "metadata": {},
   "outputs": [
    {
     "name": "stdout",
     "output_type": "stream",
     "text": [
      "Using CNSGA Generator:\n",
      "[1] Duplicate individuals: 0\n",
      "[2] Duplicate individuals: 0\n",
      "[3] Duplicate individuals: 1\n",
      "[4] Duplicate individuals: 2\n",
      "[5] Duplicate individuals: 3\n",
      "[6] Duplicate individuals: 4\n",
      "[7] Duplicate individuals: 5\n",
      "[8] Duplicate individuals: 7\n"
     ]
    }
   ],
   "source": [
    "# Our test problem\n",
    "prob = XoptProblemWrapper(Problem.from_line_fmt(\"CF1\"))\n",
    "\n",
    "# Create a test problem and use NSGA-II to solve it\n",
    "population_size = 50\n",
    "ev = Evaluator(function=prob, vectorized=True, max_workers=population_size)\n",
    "X = Xopt(\n",
    "    generator=CNSGAGenerator(vocs=prob.vocs, population_size=population_size),\n",
    "    evaluator=ev,\n",
    "    vocs=prob.vocs,\n",
    ")\n",
    "X.strict = False\n",
    "\n",
    "print(\"Using CNSGA Generator:\")\n",
    "for gen in range(8):\n",
    "    X.step()\n",
    "\n",
    "    # Calculate the number of non-unique elements\n",
    "    pop = X.generator.population[X.generator.vocs.variable_names]\n",
    "    n_dups = len(pop) - len(pop.copy().drop_duplicates())\n",
    "    print(f\"[{gen+1}] Duplicate individuals: {n_dups}\")"
   ]
  },
  {
   "cell_type": "markdown",
   "metadata": {},
   "source": [
    "### Optimization With Wrapper\n",
    "This cell performs the same optimization, but using `DeduplicatedGenerator` to force unique output from the generator. The number of duplicates is printed at each generation and will show zero demonstrating that the filtering is working."
   ]
  },
  {
   "cell_type": "code",
   "execution_count": 3,
   "metadata": {},
   "outputs": [
    {
     "name": "stdout",
     "output_type": "stream",
     "text": [
      "Using DeduplicatedGenerator Wrapper:\n",
      "[1] Duplicate individuals: 0\n",
      "[2] Duplicate individuals: 0\n",
      "[3] Duplicate individuals: 0\n",
      "[4] Duplicate individuals: 0\n",
      "[5] Duplicate individuals: 0\n",
      "[6] Duplicate individuals: 0\n",
      "[7] Duplicate individuals: 0\n",
      "[8] Duplicate individuals: 0\n"
     ]
    }
   ],
   "source": [
    "# Our test problem\n",
    "prob = XoptProblemWrapper(Problem.from_line_fmt(\"CF1\"))\n",
    "\n",
    "# Create a test problem and use NSGA-II to solve it\n",
    "population_size = 50\n",
    "ev = Evaluator(function=prob, vectorized=True, max_workers=population_size)\n",
    "X = Xopt(\n",
    "    generator=CNSGAGenerator(vocs=prob.vocs, population_size=population_size),\n",
    "    evaluator=ev,\n",
    "    vocs=prob.vocs,\n",
    ")\n",
    "X.strict = False\n",
    "\n",
    "# Inject the deduplicator\n",
    "DeduplicatedGenerator.inject(X)\n",
    "\n",
    "print(\"Using DeduplicatedGenerator Wrapper:\")\n",
    "for gen in range(8):\n",
    "    X.step()\n",
    "\n",
    "    # Calculate the number of non-unique elements\n",
    "    pop = X.generator.generator.population[X.generator.vocs.variable_names]\n",
    "    n_dups = len(pop) - len(pop.copy().drop_duplicates())\n",
    "    print(f\"[{gen+1}] Duplicate individuals: {n_dups}\")"
   ]
  },
  {
   "cell_type": "code",
   "execution_count": null,
   "metadata": {},
   "outputs": [],
   "source": []
  }
 ],
 "metadata": {
  "kernelspec": {
   "display_name": "electronsandstuff",
   "language": "python",
   "name": "python3"
  },
  "language_info": {
   "codemirror_mode": {
    "name": "ipython",
    "version": 3
   },
   "file_extension": ".py",
   "mimetype": "text/x-python",
   "name": "python",
   "nbconvert_exporter": "python",
   "pygments_lexer": "ipython3",
   "version": "3.11.11"
  }
 },
 "nbformat": 4,
 "nbformat_minor": 2
}
